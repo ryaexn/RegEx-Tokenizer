{
  "nbformat": 4,
  "nbformat_minor": 0,
  "metadata": {
    "colab": {
      "provenance": []
    },
    "kernelspec": {
      "name": "python3",
      "display_name": "Python 3"
    }
  },
  "cells": [
    {
      "cell_type": "markdown",
      "metadata": {
        "id": "wt4sVtx0CqPh"
      },
      "source": [
        "# **Mini-project \\#2 - RegEx Tokenizer**\n",
        "\n",
        "Name: \\<please supply your name\\>\n",
        "\n",
        "More information on the assessment is found in our Canvas course."
      ]
    },
    {
      "cell_type": "markdown",
      "metadata": {
        "id": "8d5XeOC1BKkp"
      },
      "source": [
        "# **Loading Data into Memory**\n",
        "\n",
        "This code block is provided and helps load in the data for this assessment from the provided file. Specifically, we are loading in tweets into a Dataframe. The file contains two columns: (1) text and (2) created_at. The 2nd column isn't very useful here and is only really meant to give you an idea of the timeframe these tweets were created. Focus on the 1st columns, but should the time frame help you in your analysis, you're free to analyze that. Also, this code assumes you've placed the tweet csv into the folder where the Python notebook is located.\n",
        "\n",
        "**Note**: Tweets collected here are public tweets. The collection of the tweets was done so through Twitter's API."
      ]
    },
    {
      "cell_type": "code",
      "metadata": {
        "id": "3ZCl59JJ8wy8"
      },
      "source": [
        "import pandas as pd\n",
        "import csv\n",
        "\n",
        "tweets = pd.read_csv(\n",
        "  \"tweets_for_mp2.csv\",\n",
        "  index_col=False,\n",
        "  quoting=csv.QUOTE_ALL)"
      ],
      "execution_count": null,
      "outputs": []
    },
    {
      "cell_type": "code",
      "source": [
        "tweets.head()"
      ],
      "metadata": {
        "id": "W8t80BvBHVpy"
      },
      "execution_count": null,
      "outputs": []
    },
    {
      "cell_type": "markdown",
      "metadata": {
        "id": "nnzCsnf1E4V1"
      },
      "source": [
        "# **Your Solution**\n",
        "\n",
        "Kindly place your solution in the code block below. Make sure that aside from loading in and tokenizing the data, your code should also display the total tokens, total vocabulary, and list top 25 tokens with their repsective counts."
      ]
    },
    {
      "cell_type": "code",
      "metadata": {
        "id": "gfXU5Xc4E_ud"
      },
      "source": [],
      "execution_count": null,
      "outputs": []
    }
  ]
}